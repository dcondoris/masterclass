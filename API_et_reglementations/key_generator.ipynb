{
  "nbformat": 4,
  "nbformat_minor": 0,
  "metadata": {
    "colab": {
      "provenance": []
    },
    "kernelspec": {
      "name": "python3",
      "display_name": "Python 3"
    },
    "language_info": {
      "name": "python"
    }
  },
  "cells": [
    {
      "cell_type": "code",
      "execution_count": null,
      "metadata": {
        "colab": {
          "base_uri": "https://localhost:8080/"
        },
        "id": "VIf29vqDkZuM",
        "outputId": "e57db0f4-7ad4-4e8d-8fdf-4cd3cb22bebb"
      },
      "outputs": [
        {
          "output_type": "stream",
          "name": "stdout",
          "text": [
            "Rl0D8wPTtSnNAvKLLE1sYpWiDHciU2Se7MddEhFP1ok=\n"
          ]
        }
      ],
      "source": [
        "from cryptography.fernet import Fernet\n",
        "\n",
        "# Génération de la clé de chiffrement\n",
        "key = Fernet.generate_key()\n",
        "\n",
        "# Affichage de la clé de chiffrement\n",
        "print(key.decode())"
      ]
    },
    {
      "cell_type": "code",
      "source": [],
      "metadata": {
        "id": "MDh6H_sztF88"
      },
      "execution_count": null,
      "outputs": []
    }
  ]
}